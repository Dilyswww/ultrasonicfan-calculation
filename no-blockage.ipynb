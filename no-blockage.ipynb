{
 "cells": [
  {
   "cell_type": "markdown",
   "metadata": {},
   "source": [
    "This is the calculation method of no-blade-blockage fan optimization. Ideas will be illustrated throughout the code block. Five parameters would be determined, namely Base plate angle, number of blades, blade radian, blade thickness, and white space in the middle\n"
   ]
  },
  {
   "cell_type": "code",
   "execution_count": null,
   "metadata": {},
   "outputs": [],
   "source": [
    "# imports\n",
    "import math\n",
    "import numpy as np\n",
    "from scipy.optimize import minimize\n",
    "# variable declaration\n",
    "# constants\n",
    "w_0 = 2300\n",
    "# Operation speed (rpm)\n",
    "w = w_0 * math.pi / 30  # (rad/s)\n",
    "r1 = 0.015  # Inner radius (m)\n",
    "r2 = 0.045  # Outer radius (m)\n",
    "Q = (75 * 1.2) / 60000  # Capacity (m^3/s), 20% difference\n",
    "P = (0.80 + 0.32) * (10 ** 5)  # Pressure gradient (Pa), 40% difference\n",
    "g = 9.81  # Gravitational acceleration (m/s^2)\n",
    "H = P / (g * 1000)  # Net head (m)\n",
    "thi_1 = 0.003  # Thickness of the blade leading edge (assumption) (m)\n",
    "thi_2 = 0.003  # Thickness of the blade trailing edge (assumption) (m)\n",
    "V_target = Q / (0.278 * (10 ** (-3)))  # The entry velocity of the flow\n",
    "a_s_target = math.radians(5.3)  # The volute angle\n",
    "\n",
    "# Your remaining code goes here\n",
    "print(\"V_target: \", V_target)\n"
   ]
  }
 ],
 "metadata": {
  "kernelspec": {
   "display_name": "Python 3",
   "language": "python",
   "name": "python3"
  },
  "language_info": {
   "name": "python",
   "version": "3.11.2"
  }
 },
 "nbformat": 4,
 "nbformat_minor": 2
}
