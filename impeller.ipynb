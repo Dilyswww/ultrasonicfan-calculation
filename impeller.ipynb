{
 "cells": [
  {
   "attachments": {},
   "cell_type": "markdown",
   "metadata": {},
   "source": [
    "# Calculations for impeller optimization\n",
    "\n",
    "To help calculating the useful parameters, the following method is defined and proposed. The parameters include:\n",
    "1. Inclination angle of the bottom plate $\\alpha$\n",
    "2. Number of blades $n$\n",
    "3. Optimal inlet blade height $h_1$\n",
    "4. Optimal outlet blade height $h_2$\n",
    "5. Optimal leading edge angle $\\beta_1$\n",
    "6. Optimal trailing edge angle $\\beta_2$"
   ]
  },
  {
   "cell_type": "code",
   "execution_count": 2,
   "metadata": {},
   "outputs": [],
   "source": [
    "import math\n",
    "import numpy as np\n",
    "from scipy.optimize import minimize"
   ]
  },
  {
   "cell_type": "code",
   "execution_count": 7,
   "metadata": {},
   "outputs": [
    {
     "name": "stdout",
     "output_type": "stream",
     "text": [
      "0.09250245035569947\n",
      "64.74820143884891\n",
      "112000.00000000001\n"
     ]
    }
   ],
   "source": [
    "# constants\n",
    "w_0 = 6250 # ref 1, data = 1/4 original data\n",
    "# Operation speed 2000 - 8000, take the middle (rpm)\n",
    "w = w_0 * math.pi / 30  # (rad/s)\n",
    "r1 = 0.015  # Inner radius (m)\n",
    "r2 = 0.045  # Outer radius (m)\n",
    "# pi = \n",
    "Q = 0.015 * 1.2  # Capacity (m^3/s), 20% difference\n",
    "P = (0.80 + 0.32) * (10 ** 5)  # Pressure gradient (Pa), 40% difference\n",
    "g = 9.81  # Gravitational acceleration (m/s^2)\n",
    "thi_1 = 0.003  # Thickness of the blade leading edge (assumption) (m) \n",
    "thi_2 = 0.003  # Thickness of the blade trailing edge (assumption) (m)\n",
    "V_target = Q / (0.278 * (10 ** (-3)))  # The entry velocity of the flow\n",
    "a_s_target = math.radians(5.3)  # The volute angle\n",
    "print(a_s_target)\n",
    "print(V_target)\n",
    "print(P)\n"
   ]
  },
  {
   "cell_type": "code",
   "execution_count": 8,
   "metadata": {},
   "outputs": [],
   "source": [
    "# Optimal b1: 0.004 m, Optimal n: 5.0\n",
    "# Bf1 Difference: 0.058416608949283355\n",
    "# Bf1 %diff: 7.03508697545233\n",
    "# beta1: 44.92851290907397"
   ]
  },
  {
   "cell_type": "markdown",
   "metadata": {},
   "source": [
    "References\n",
    "1. [Dryer reference](https://www.amazon.com/AIRYOMI-Professional-Diffuser-Magnetic-Blue-Black/dp/B0B49H54KQ\n",
    "https://www.amazon.com/AIRYOMI-Professional-Diffuser-Magnetic-Blue-Black/dp/B0B49H54KQ)"
   ]
  }
 ],
 "metadata": {
  "kernelspec": {
   "display_name": "Python 3",
   "language": "python",
   "name": "python3"
  },
  "language_info": {
   "codemirror_mode": {
    "name": "ipython",
    "version": 3
   },
   "file_extension": ".py",
   "mimetype": "text/x-python",
   "name": "python",
   "nbconvert_exporter": "python",
   "pygments_lexer": "ipython3",
   "version": "3.11.2"
  },
  "orig_nbformat": 4,
  "vscode": {
   "interpreter": {
    "hash": "aee8b7b246df8f9039afb4144a1f6fd8d2ca17a180786b69acc140d282b71a49"
   }
  }
 },
 "nbformat": 4,
 "nbformat_minor": 2
}
